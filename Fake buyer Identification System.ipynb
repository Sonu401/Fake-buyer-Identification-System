{
 "cells": [
  {
   "cell_type": "code",
   "execution_count": 1,
   "id": "1f0d945d-95b9-466c-b689-0180a97a3a84",
   "metadata": {},
   "outputs": [],
   "source": [
    "import pandas as pd\n",
    "import matplotlib.pyplot as plt\n",
    "from fpdf import FPDF\n"
   ]
  },
  {
   "cell_type": "code",
   "execution_count": 2,
   "id": "7e32950b-f1fa-4358-83b8-bf30b673a488",
   "metadata": {},
   "outputs": [
    {
     "name": "stdout",
     "output_type": "stream",
     "text": [
      "      Order # Fulfillment Date and Time Stamp Currency    Subtotal  \\\n",
      "0  R121113121                             NaN      INR  ₹ 2,299.00   \n",
      "1  R472890631                             NaN      INR  ₹ 2,299.00   \n",
      "2  R004476488                             NaN      INR  ₹ 2,299.00   \n",
      "3  R526038353                             NaN      INR  ₹ 2,299.00   \n",
      "4  R658530771                             NaN      INR    ₹ 349.00   \n",
      "\n",
      "  Shipping Method Shipping Cost Tax Method   Taxes       Total Coupon Code  \\\n",
      "0      Ships Free        ₹ 0.00        NaN  ₹ 0.00  ₹ 2,299.00         NaN   \n",
      "1      Ships Free        ₹ 0.00        NaN  ₹ 0.00  ₹ 2,299.00         NaN   \n",
      "2      Ships Free        ₹ 0.00        NaN  ₹ 0.00  ₹ 2,299.00         NaN   \n",
      "3      Ships Free        ₹ 0.00        NaN  ₹ 0.00  ₹ 2,299.00         NaN   \n",
      "4      Ships Free        ₹ 0.00        NaN  ₹ 0.00    ₹ 349.00         NaN   \n",
      "\n",
      "   ... Tracking # Special Instructions  \\\n",
      "0  ...        NaN                  NaN   \n",
      "1  ...        NaN                  NaN   \n",
      "2  ...        NaN                  NaN   \n",
      "3  ...        NaN                  NaN   \n",
      "4  ...        NaN                  NaN   \n",
      "\n",
      "                                       LineItem Name LineItem SKU  \\\n",
      "0  Falcon Drone Four Axis Aircraft with 2.4 GHz R...    PL0093416   \n",
      "1  Falcon Drone Four Axis Aircraft with 2.4 GHz R...    PL0093416   \n",
      "2  Falcon Drone Four Axis Aircraft with 2.4 GHz R...    PL0093416   \n",
      "3  Falcon Drone Four Axis Aircraft with 2.4 GHz R...    PL0093416   \n",
      "4                                 Barbie Doll (pink)      PL00098   \n",
      "\n",
      "  LineItem Options LineItem Add-ons LineItem Qty LineItem Sale Price  \\\n",
      "0              NaN              NaN            1          ₹ 2,299.00   \n",
      "1              NaN              NaN            1          ₹ 2,299.00   \n",
      "2              NaN              NaN            1          ₹ 2,299.00   \n",
      "3              NaN              NaN            1          ₹ 2,299.00   \n",
      "4              NaN              NaN            1            ₹ 349.00   \n",
      "\n",
      "  Download Status LineItem Type  \n",
      "0             NaN      physical  \n",
      "1             NaN      physical  \n",
      "2             NaN      physical  \n",
      "3             NaN      physical  \n",
      "4             NaN      physical  \n",
      "\n",
      "[5 rows x 38 columns]\n"
     ]
    }
   ],
   "source": [
    "# Load the data from the corrected Google Drive link\n",
    "url = 'https://drive.google.com/uc?export=download&id=17oOO_s6BbyVPzhaM-5EzKLrjoe3_ft90'\n",
    "data = pd.read_csv(url)\n",
    "print(data.head())  # Display the first few rows to ensure data is loaded correctly"
   ]
  },
  {
   "cell_type": "code",
   "execution_count": 3,
   "id": "68e256ac-64d6-4492-8248-737b0904cb8f",
   "metadata": {},
   "outputs": [
    {
     "name": "stdout",
     "output_type": "stream",
     "text": [
      "Index(['Order #', 'Fulfillment Date and Time Stamp', 'Currency', 'Subtotal',\n",
      "       'Shipping Method', 'Shipping Cost', 'Tax Method', 'Taxes', 'Total',\n",
      "       'Coupon Code', 'Coupon Code Name', 'Discount', 'Billing Name',\n",
      "       'Billing Country', 'Billing Street Address', 'Billing Street Address 2',\n",
      "       'Billing City', 'Billing State', 'Billing Zip', 'Shipping Name',\n",
      "       'Shipping Country', 'Shipping Street Address',\n",
      "       'Shipping Street Address 2', 'Shipping City', 'Shipping State',\n",
      "       'Shipping Zip', 'Gift Cards', 'Payment Method', 'Tracking #',\n",
      "       'Special Instructions', 'LineItem Name', 'LineItem SKU',\n",
      "       'LineItem Options', 'LineItem Add-ons', 'LineItem Qty',\n",
      "       'LineItem Sale Price', 'Download Status', 'LineItem Type'],\n",
      "      dtype='object')\n"
     ]
    }
   ],
   "source": [
    "print(data.columns)"
   ]
  },
  {
   "cell_type": "markdown",
   "id": "10669a45-38d6-402f-8d4e-2260f62e4844",
   "metadata": {},
   "source": [
    "# The Shipping Address Differs from the Billing Address"
   ]
  },
  {
   "cell_type": "code",
   "execution_count": 4,
   "id": "3a4d84fb-f7f4-4055-ad7a-33b380d34ed8",
   "metadata": {},
   "outputs": [],
   "source": [
    "# Filter orders where the shipping address is different from the billing address\n",
    "shipping_vs_billing = data[\n",
    "    (data['Billing Street Address'] != data['Shipping Street Address']) |\n",
    "    (data['Billing City'] != data['Shipping City']) |\n",
    "    (data['Billing State'] != data['Shipping State']) |\n",
    "    (data['Billing Zip'] != data['Shipping Zip'])\n",
    "]\n",
    "\n",
    "# Save to CSV\n",
    "shipping_vs_billing.to_csv('shipping_vs_billing.csv', index=False)\n"
   ]
  },
  {
   "cell_type": "markdown",
   "id": "2295b1a5-5141-4ff0-9b52-9976114df431",
   "metadata": {},
   "source": [
    "# Multiple Orders of the Same Item"
   ]
  },
  {
   "cell_type": "code",
   "execution_count": 5,
   "id": "4e9b5e65-8132-498e-a6c1-8729c5ccb83b",
   "metadata": {},
   "outputs": [],
   "source": [
    "# Group by Order and LineItem SKU to find multiple orders of the same item\n",
    "multiple_orders_same_item = data.groupby(['Order #', 'LineItem SKU']).filter(lambda x: len(x) > 1)\n",
    "\n",
    "# Save to CSV\n",
    "multiple_orders_same_item.to_csv('multiple_orders_same_item.csv', index=False)\n"
   ]
  },
  {
   "cell_type": "markdown",
   "id": "ca3279f2-d800-4be0-af51-90fae1a575d7",
   "metadata": {},
   "source": [
    "# Unusually Large Orders"
   ]
  },
  {
   "cell_type": "code",
   "execution_count": 6,
   "id": "0df41426-08f6-49ca-8f7d-5dafaff90b52",
   "metadata": {},
   "outputs": [],
   "source": [
    "# Clean the 'Total' column and filter orders exceeding the threshold (e.g., ₹ 10,000)\n",
    "data['Total_Clean'] = pd.to_numeric(data['Total'].replace('[₹,]', '', regex=True), errors='coerce')\n",
    "unusually_large_orders = data[data['Total_Clean'] > 10000]\n",
    "\n",
    "# Save to CSV\n",
    "unusually_large_orders.to_csv('unusually_large_orders.csv', index=False)\n"
   ]
  },
  {
   "cell_type": "markdown",
   "id": "b27323ab-3da2-4637-bc7c-c27ee45bb9b5",
   "metadata": {},
   "source": [
    "# Multiple Orders to the Same Address with Different Payment Methods"
   ]
  },
  {
   "cell_type": "code",
   "execution_count": 7,
   "id": "9a4a1baa-a344-489a-aeed-76f7e709a0bd",
   "metadata": {},
   "outputs": [],
   "source": [
    "# Filter orders by grouping by address and checking for different payment methods\n",
    "multiple_payment_methods = data.groupby('Shipping Street Address').filter(\n",
    "    lambda x: x['Payment Method'].nunique() > 1\n",
    ")\n",
    "\n",
    "# Save to CSV\n",
    "multiple_payment_methods.to_csv('multiple_payment_methods.csv', index=False)\n"
   ]
  },
  {
   "cell_type": "markdown",
   "id": "6cb483f0-2f9d-4b7d-ba93-fe33bbcc4346",
   "metadata": {},
   "source": [
    "# Unexpected International Orders"
   ]
  },
  {
   "cell_type": "code",
   "execution_count": 8,
   "id": "8440289e-15dd-48d0-bdf5-aa378b7ad8a7",
   "metadata": {},
   "outputs": [],
   "source": [
    "# Filter orders where the country is not India (adjust based on your expected regions)\n",
    "unexpected_international_orders = data[\n",
    "    (data['Billing Country'] != 'India') | (data['Shipping Country'] != 'India')\n",
    "]\n",
    "\n",
    "# Save to CSV\n",
    "unexpected_international_orders.to_csv('unexpected_international_orders.csv', index=False)\n"
   ]
  },
  {
   "cell_type": "code",
   "execution_count": 9,
   "id": "c550f7ab-a664-4bcd-8cee-8199292f71f2",
   "metadata": {},
   "outputs": [],
   "source": [
    "# Create PDF\n",
    "pdf = FPDF()\n",
    "pdf.add_page()\n",
    "pdf.set_font(\"Arial\", size=12)\n"
   ]
  },
  {
   "cell_type": "code",
   "execution_count": 10,
   "id": "fdd51ebb-6b9f-4a3e-a92a-79cbcbc49015",
   "metadata": {},
   "outputs": [],
   "source": [
    "# Add details for each section\n",
    "pdf.cell(200, 10, txt=\"Fake Buyer Identification Report\", ln=True, align=\"C\")\n"
   ]
  },
  {
   "cell_type": "code",
   "execution_count": 11,
   "id": "b2c481ec-8c32-413b-a921-2fede1493be6",
   "metadata": {},
   "outputs": [],
   "source": [
    "# Add each section with results\n",
    "pdf.cell(200, 10, txt=\"1. Orders with Different Shipping and Billing Addresses\", ln=True)\n",
    "pdf.cell(200, 10, txt=f\"Total: {len(shipping_vs_billing)}\", ln=True)\n"
   ]
  },
  {
   "cell_type": "code",
   "execution_count": 12,
   "id": "db815227-39f6-4313-98c6-56b3a150790d",
   "metadata": {},
   "outputs": [],
   "source": [
    "pdf.cell(200, 10, txt=\"2. Multiple Orders of the Same Item\", ln=True)\n",
    "pdf.cell(200, 10, txt=f\"Total: {len(multiple_orders_same_item)}\", ln=True)"
   ]
  },
  {
   "cell_type": "code",
   "execution_count": 13,
   "id": "95e7b808-4488-4ea0-8fc4-aedf5e83c24b",
   "metadata": {},
   "outputs": [],
   "source": [
    "pdf.cell(200, 10, txt=\"3. Unusually Large Orders\", ln=True)\n",
    "pdf.cell(200, 10, txt=f\"Total: {len(unusually_large_orders)}\", ln=True)\n"
   ]
  },
  {
   "cell_type": "code",
   "execution_count": 14,
   "id": "58a238fe-8632-45cd-9ef1-fa2d1a779f9c",
   "metadata": {},
   "outputs": [],
   "source": [
    "pdf.cell(200, 10, txt=\"4. Multiple Orders to Same Address with Different Payment Methods\", ln=True)\n",
    "pdf.cell(200, 10, txt=f\"Total: {len(multiple_payment_methods)}\", ln=True)"
   ]
  },
  {
   "cell_type": "code",
   "execution_count": 15,
   "id": "617062b3-8da4-47f3-b50f-9a8432282c34",
   "metadata": {},
   "outputs": [],
   "source": [
    "pdf.cell(200, 10, txt=\"5. Unexpected International Orders\", ln=True)\n",
    "pdf.cell(200, 10, txt=f\"Total: {len(unexpected_international_orders)}\", ln=True)\n"
   ]
  },
  {
   "cell_type": "code",
   "execution_count": 16,
   "id": "fe3d92fe-e7d0-4fbb-82da-563512f4868c",
   "metadata": {},
   "outputs": [
    {
     "data": {
      "text/plain": [
       "''"
      ]
     },
     "execution_count": 16,
     "metadata": {},
     "output_type": "execute_result"
    }
   ],
   "source": [
    "# Save PDF\n",
    "pdf.output(\"Fake_Buyer_Identification_Report.pdf\")"
   ]
  },
  {
   "cell_type": "code",
   "execution_count": null,
   "id": "f989ccab-a6ae-4199-8eac-5eafdcc06765",
   "metadata": {},
   "outputs": [],
   "source": []
  }
 ],
 "metadata": {
  "kernelspec": {
   "display_name": "Python 3 (ipykernel)",
   "language": "python",
   "name": "python3"
  },
  "language_info": {
   "codemirror_mode": {
    "name": "ipython",
    "version": 3
   },
   "file_extension": ".py",
   "mimetype": "text/x-python",
   "name": "python",
   "nbconvert_exporter": "python",
   "pygments_lexer": "ipython3",
   "version": "3.10.8"
  }
 },
 "nbformat": 4,
 "nbformat_minor": 5
}
